{
  "nbformat": 4,
  "nbformat_minor": 0,
  "metadata": {
    "colab": {
      "provenance": []
    },
    "kernelspec": {
      "name": "python3",
      "display_name": "Python 3"
    },
    "language_info": {
      "name": "python"
    }
  },
  "cells": [
    {
      "cell_type": "code",
      "execution_count": 33,
      "metadata": {
        "id": "dT_61ZuKvTst"
      },
      "outputs": [],
      "source": [
        "\n",
        "import pandas as pd\n",
        "\n",
        "\n"
      ]
    },
    {
      "cell_type": "markdown",
      "source": [
        "Let's say you're in a rush to get to your destination. How do you know whether or not its faster to go for a red or blue bus. We can run our simulation and find the average travel time from stop A to stop B for every stop on both the red and blue route. Then users can see which bus gets them to their destination faster.\n"
      ],
      "metadata": {
        "id": "beEtsBzFviu6"
      }
    },
    {
      "cell_type": "code",
      "source": [
        "\n",
        "\n",
        "redRoute = pd.read_csv('Data/PassengersMediumTrafficRedComparisonAll.csv')\n",
        "\n",
        "\n",
        "blueRoute = pd.read_csv('Data/PassengersMediumTrafficBlueComparisonAll.csv')\n"
      ],
      "metadata": {
        "id": "xLJzp5FTv3Tq"
      },
      "execution_count": 34,
      "outputs": []
    },
    {
      "cell_type": "code",
      "source": [
        "\n",
        "redRoute[\"busTravelTime\"] = redRoute[\"BusDepartureTime\"] - redRoute[\"BusArrivalTime\"]\n",
        "\n",
        "\n",
        "redRouteStopData = redRoute.groupby(['StartStopId', 'EndStopId'])['busTravelTime'].mean().reset_index()\n",
        "\n",
        "\n",
        "tempList = redRouteStopData[\"StartStopId\"].unique().tolist()\n",
        "\n",
        "\n",
        "redRouteStopData2 = redRouteStopData.groupby('StartStopId')['EndStopId'].count()\n",
        "\n",
        "for a in tempList:\n",
        "  for b in tempList:\n",
        "    if ( ((redRouteStopData['StartStopId'] == a) & (redRouteStopData['EndStopId'] == b)).any() ):\n",
        "      continue;\n",
        "    elif a==b:\n",
        "      continue;\n",
        "    else:\n",
        "      value = redRouteStopData.loc[(redRouteStopData['StartStopId'] == a) & (redRouteStopData['EndStopId'] == 'S2')]['busTravelTime'].item()\n",
        "      value2 = redRouteStopData.loc[(redRouteStopData['StartStopId'] == 'S2') & (redRouteStopData['EndStopId'] == b)]['busTravelTime'].item()\n",
        "\n",
        "      df2 = {'StartStopId': a, 'EndStopId': b, 'busTravelTime': value+value2}\n",
        "\n",
        "      df2 = pd.DataFrame([df2])\n",
        "\n",
        "      redRouteStopData = pd.concat([redRouteStopData,df2], axis=0, ignore_index=True)\n",
        "\n",
        "redRouteStopData.to_csv('Data/redRouteTestAnalysis.csv')\n",
        "\n",
        "\n",
        "\n",
        "\n"
      ],
      "metadata": {
        "id": "1hJplpaCwJ9C"
      },
      "execution_count": 82,
      "outputs": []
    },
    {
      "cell_type": "code",
      "source": [
        "blueRoute[\"busTravelTime\"] = blueRoute[\"BusDepartureTime\"] - blueRoute[\"BusArrivalTime\"]\n",
        "\n",
        "\n",
        "blueRouteStopData = blueRoute.groupby(['StartStopId', 'EndStopId'])['busTravelTime'].mean().reset_index()\n",
        "\n",
        "\n",
        "tempList = blueRouteStopData[\"StartStopId\"].unique().tolist()\n",
        "\n",
        "\n",
        "blueRouteStopData2 = blueRouteStopData.groupby('StartStopId')['EndStopId'].count()\n",
        "\n",
        "for a in tempList:\n",
        "  for b in tempList:\n",
        "    if ( ((blueRouteStopData['StartStopId'] == a) & (blueRouteStopData['EndStopId'] == b)).any() ):\n",
        "      continue;\n",
        "    elif a==b:\n",
        "      continue;\n",
        "    else:\n",
        "      value = blueRouteStopData.loc[(blueRouteStopData['StartStopId'] == a) & (blueRouteStopData['EndStopId'] == 'S2')]['busTravelTime'].item()\n",
        "      value2 = blueRouteStopData.loc[(blueRouteStopData['StartStopId'] == 'S2') & (blueRouteStopData['EndStopId'] == b)]['busTravelTime'].item()\n",
        "\n",
        "      df2 = {'StartStopId': a, 'EndStopId': b, 'busTravelTime': value+value2}\n",
        "\n",
        "      df2 = pd.DataFrame([df2])\n",
        "\n",
        "      blueRouteStopData = pd.concat([blueRouteStopData,df2], axis=0, ignore_index=True)\n",
        "\n",
        "blueRouteStopData.to_csv('Data/blueRouteTestAnalysis.csv')\n",
        "\n",
        "\n",
        "\n",
        "\n",
        "\n"
      ],
      "metadata": {
        "id": "Q3cq080w_Xph"
      },
      "execution_count": 83,
      "outputs": []
    }
  ]
}