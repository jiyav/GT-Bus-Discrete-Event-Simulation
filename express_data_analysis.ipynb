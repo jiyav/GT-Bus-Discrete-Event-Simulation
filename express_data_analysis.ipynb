{
 "cells": [
  {
   "cell_type": "code",
   "execution_count": 57,
   "metadata": {},
   "outputs": [],
   "source": [
    "#VERY IMPORTANT ONLY RUN THIS CELL ONCE OTHERWISE YOULL LOSE ALL DATA\n",
    "# Used to analyze DES containing Express\n",
    "import pandas as pd\n",
    "import matplotlib.pyplot as plt\n",
    "import numpy as np\n",
    "running_stats_list = []"
   ]
  },
  {
   "cell_type": "code",
   "execution_count": 86,
   "metadata": {},
   "outputs": [],
   "source": [
    "# Run the DES file then this cell all the way up to the append function cell 5 times.\n",
    "# Extract data from csv\n",
    "# Append 3 performance time metrics to dataframe\n",
    "df = pd.read_csv(\"./DES2/PassengersExpress.csv\")\n",
    "df[\"TimeOnBus\"] = df[\"BusDepartureTime\"] - df[\"BusArrivalTime\"]\n",
    "df[\"TotalTravelTime\"] = df[\"BusDepartureTime\"] - df[\"StopArrivalTime\"]\n",
    "df[\"BusWaitTime\"] = df[\"BusArrivalTime\"] - df[\"StopArrivalTime\"]\n"
   ]
  },
  {
   "cell_type": "code",
   "execution_count": 87,
   "metadata": {},
   "outputs": [],
   "source": [
    "# Get aggregate stats of all passengers\n",
    "# Data is stored in a statistics dictionary where you index in format [AggStat]_[PerfMetric]\n",
    "statistics_dict = {}\n",
    "median_column_A = df['TimeOnBus'].median()\n",
    "Q1_column_A = df['TimeOnBus'].quantile(0.25)\n",
    "Q3_column_A = df['TimeOnBus'].quantile(0.75)\n",
    "IQR_column_A = Q3_column_A - Q1_column_A\n",
    "mean_column_A = df['TimeOnBus'].mean()\n",
    "std_column_A = df['TimeOnBus'].std()\n",
    "statistics_dict[\"median_TimeOnBus\"] = median_column_A\n",
    "statistics_dict[\"Q1_TimeOnBus\"] = Q1_column_A\n",
    "statistics_dict[\"Q3_TimeOnBus\"] = Q3_column_A\n",
    "statistics_dict[\"IQR_TimeOnBus\"] = IQR_column_A\n",
    "statistics_dict[\"mean_TimeOnBus\"] = mean_column_A\n",
    "statistics_dict[\"std_TimeOnBus\"] = std_column_A\n",
    "\n",
    "\n",
    "# Calculate median and IQR for 'Column_B'\n",
    "median_column_B = df['TotalTravelTime'].median()\n",
    "Q1_column_B = df['TotalTravelTime'].quantile(0.25)\n",
    "Q3_column_B = df['TotalTravelTime'].quantile(0.75)\n",
    "IQR_column_B = Q3_column_B - Q1_column_B\n",
    "mean_column_B = df['TotalTravelTime'].mean()\n",
    "std_column_B = df['TotalTravelTime'].std()\n",
    "\n",
    "statistics_dict['median_TotalTravelTime'] = median_column_B\n",
    "statistics_dict['Q1_TotalTravelTime'] = Q1_column_B\n",
    "statistics_dict['Q3_TotalTravelTime'] = Q3_column_B\n",
    "statistics_dict['IQR_TotalTravelTime'] = IQR_column_B\n",
    "statistics_dict['mean_TotalTravelTime'] = mean_column_B\n",
    "statistics_dict['std_TotalTravelTime'] = std_column_B\n",
    "\n",
    "median_column_C = df['BusWaitTime'].median()\n",
    "Q1_column_C = df['BusWaitTime'].quantile(0.25)\n",
    "Q3_column_C = df['BusWaitTime'].quantile(0.75)\n",
    "IQR_column_C = Q3_column_C - Q1_column_C\n",
    "mean_column_C = df['BusWaitTime'].mean()\n",
    "std_column_C = df['BusWaitTime'].std()\n",
    "\n",
    "statistics_dict['median_BusWaitTime'] = median_column_C\n",
    "statistics_dict['Q1_BusWaitTime'] = Q1_column_C\n",
    "statistics_dict['Q3_BusWaitTime'] = Q3_column_C\n",
    "statistics_dict['IQR_BusWaitTime'] = IQR_column_C\n",
    "statistics_dict['mean_BusWaitTime'] = mean_column_C\n",
    "statistics_dict['std_BusWaitTime'] = std_column_B"
   ]
  },
  {
   "cell_type": "code",
   "execution_count": 88,
   "metadata": {},
   "outputs": [
    {
     "name": "stdout",
     "output_type": "stream",
     "text": [
      "{'median_TimeOnBus': 315.0, 'Q1_TimeOnBus': 218.0, 'Q3_TimeOnBus': 401.0, 'IQR_TimeOnBus': 183.0, 'mean_TimeOnBus': 302.2039603960396, 'std_TimeOnBus': 135.36042415982814, 'median_TotalTravelTime': 427.0, 'Q1_TotalTravelTime': 326.0, 'Q3_TotalTravelTime': 601.0, 'IQR_TotalTravelTime': 275.0, 'mean_TotalTravelTime': 459.35445544554455, 'std_TotalTravelTime': 143.0373851707955, 'median_BusWaitTime': 135.0, 'Q1_BusWaitTime': 10.0, 'Q3_BusWaitTime': 260.0, 'IQR_BusWaitTime': 250.0, 'mean_BusWaitTime': 157.15049504950494, 'std_BusWaitTime': 143.0373851707955}\n",
      "10\n"
     ]
    }
   ],
   "source": [
    "print(statistics_dict)\n",
    "running_stats_list.append(statistics_dict)\n",
    "print(len(running_stats_list))"
   ]
  },
  {
   "cell_type": "code",
   "execution_count": 89,
   "metadata": {},
   "outputs": [
    {
     "name": "stdout",
     "output_type": "stream",
     "text": [
      "Express Bus\n",
      "Median Bus Wait Time: 134.4\n",
      "IQR Bus Wait Time: 258.1\n",
      "Median Time On Bus: 317.05\n",
      "IQR Time On Bus: 169.45\n",
      "Median Travel Time: 451.6\n",
      "IQR Time On Bus: 169.45\n"
     ]
    }
   ],
   "source": [
    "print(\"Express Bus\")\n",
    "median_BusWaitTime_arr = np.array([d['median_BusWaitTime'] for d in running_stats_list])\n",
    "print(\"Median Bus Wait Time: \" + str(np.mean(median_BusWaitTime_arr)))\n",
    "iqr_BusWaitTime_arr = np.array([d['IQR_BusWaitTime'] for d in running_stats_list])\n",
    "print(\"IQR Bus Wait Time: \" + str(np.mean(iqr_BusWaitTime_arr)))\n",
    "median_TimeOnBus_arr = np.array([d['median_TimeOnBus'] for d in running_stats_list])\n",
    "print(\"Median Time On Bus: \" + str(np.mean(median_TimeOnBus_arr)))\n",
    "iqr_TimeOnBus_arr = np.array([d['IQR_TimeOnBus'] for d in running_stats_list])\n",
    "print(\"IQR Time On Bus: \" + str(np.mean(iqr_TimeOnBus_arr)))\n",
    "median_TotalTravelTime_arr = np.array([d['median_TotalTravelTime'] for d in running_stats_list])\n",
    "print(\"Median Travel Time: \" + str(np.mean(median_TotalTravelTime_arr)))\n",
    "iqr_TotalTravelTime_arr = np.array([d['IQR_TimeOnBus'] for d in running_stats_list])\n",
    "print(\"IQR Time On Bus: \" + str(np.mean(iqr_TotalTravelTime_arr)))\n"
   ]
  }
 ],
 "metadata": {
  "kernelspec": {
   "display_name": "Python 3",
   "language": "python",
   "name": "python3"
  },
  "language_info": {
   "codemirror_mode": {
    "name": "ipython",
    "version": 3
   },
   "file_extension": ".py",
   "mimetype": "text/x-python",
   "name": "python",
   "nbconvert_exporter": "python",
   "pygments_lexer": "ipython3",
   "version": "3.11.5"
  }
 },
 "nbformat": 4,
 "nbformat_minor": 2
}
